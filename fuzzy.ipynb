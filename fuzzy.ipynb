{
 "cells": [
  {
   "cell_type": "code",
   "execution_count": 17,
   "metadata": {},
   "outputs": [
    {
     "name": "stdout",
     "output_type": "stream",
     "text": [
      "Cluster centers:  [[0.22645397 0.71840176]\n",
      " [0.52083891 0.18668653]\n",
      " [0.76252289 0.60239021]]\n",
      "Cluster membership:  [2 2 0 0 2 2 2 1 0 2 2 0 0 0 1 0 0 0 2 2 1 1 2 1 1 2 1 1 1 1 1 1 0 1 1 2 2\n",
      " 1 1 1 1 0 1 1 2 0 0 1 1 1 1 2 0 2 0 0 1 2 2 2 2 2 0 0 1 2 1 2 2 2 2 0 2 0\n",
      " 2 0 0 0 2 1 2 2 2 0 1 1 1 1 0 1 0 1 2 2 1 1 0 2 1 0]\n"
     ]
    }
   ],
   "source": [
    "import numpy as np\n",
    "import skfuzzy as fuzz\n",
    "\n",
    "np.random.seed(0)\n",
    "\n",
    "data = np.random.rand(100,2)\n",
    "\n",
    "n_clusters = 3\n",
    "\n",
    "cntr, u, *_ = fuzz.cluster.cmeans(data.T, n_clusters, 2, error = 0.005, maxiter = 1000) \n",
    "\n",
    "cluster_membership = np.argmax(u, axis = 0)\n",
    "\n",
    "print('Cluster centers: ', cntr)\n",
    "print('Cluster membership: ', cluster_membership)\n"
   ]
  }
 ],
 "metadata": {
  "kernelspec": {
   "display_name": "Python 3.10 tensorflow",
   "language": "python",
   "name": "tensorflow"
  },
  "language_info": {
   "codemirror_mode": {
    "name": "ipython",
    "version": 3
   },
   "file_extension": ".py",
   "mimetype": "text/x-python",
   "name": "python",
   "nbconvert_exporter": "python",
   "pygments_lexer": "ipython3",
   "version": "3.10.13"
  }
 },
 "nbformat": 4,
 "nbformat_minor": 2
}
