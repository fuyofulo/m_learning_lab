{
 "cells": [
  {
   "cell_type": "code",
   "execution_count": 11,
   "metadata": {},
   "outputs": [
    {
     "name": "stdout",
     "output_type": "stream",
     "text": [
      "0    0.0\n",
      "1    1.0\n",
      "2    0.0\n",
      "3    1.0\n",
      "4    1.0\n",
      "5    0.0\n",
      "6    0.0\n",
      "Name: y, dtype: float64\n",
      "[0.]\n"
     ]
    },
    {
     "name": "stderr",
     "output_type": "stream",
     "text": [
      "c:\\Users\\pheon\\miniconda3\\envs\\tensorflow\\lib\\site-packages\\sklearn\\base.py:493: UserWarning: X does not have valid feature names, but RandomForestClassifier was fitted with feature names\n",
      "  warnings.warn(\n"
     ]
    }
   ],
   "source": [
    "import pandas as pd\n",
    "import numpy as np\n",
    "from sklearn.ensemble import RandomForestClassifier\n",
    "from sklearn.model_selection import train_test_split\n",
    "\n",
    "bd = pd.read_csv('bank.csv')\n",
    "\n",
    "bd.head(5)\n",
    "\n",
    "bd=bd.loc[:,['age','default','cons.price','cons.conf','y']] \n",
    "\n",
    "bd['default'] = bd['default'].map({'no':0, 'yes':1, 'unknown':0})\n",
    "bd['y'] = bd['y'].map({'no':0, 'yes':1})\n",
    "bd['y'] = bd['y'].fillna(0)\n",
    "x = bd.drop('y', axis=1)\n",
    "y = bd['y']\n",
    "\n",
    "print(bd['y'])\n",
    "\n",
    "x_train, x_test, y_train, y_test = train_test_split(x, y, test_size = 0.2)\n",
    "\n",
    "model = RandomForestClassifier()\n",
    "\n",
    "model.fit (x_train, y_train)\n",
    "\n",
    "row = [[35,1,93.674,-37.9]]\n",
    "\n",
    "print(model.predict(row))\n"
   ]
  },
  {
   "cell_type": "code",
   "execution_count": null,
   "metadata": {},
   "outputs": [],
   "source": []
  }
 ],
 "metadata": {
  "kernelspec": {
   "display_name": "Python 3.10 tensorflow",
   "language": "python",
   "name": "tensorflow"
  },
  "language_info": {
   "codemirror_mode": {
    "name": "ipython",
    "version": 3
   },
   "file_extension": ".py",
   "mimetype": "text/x-python",
   "name": "python",
   "nbconvert_exporter": "python",
   "pygments_lexer": "ipython3",
   "version": "3.10.13"
  }
 },
 "nbformat": 4,
 "nbformat_minor": 2
}
