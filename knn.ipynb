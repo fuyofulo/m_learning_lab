{
 "cells": [
  {
   "cell_type": "code",
   "execution_count": null,
   "metadata": {},
   "outputs": [],
   "source": [
    "from sklearn.neighbors import KNeighborsClassifier\n",
    "from sklearn.model_selection import train_test_split\n",
    "from sklearn.datasets import load_iris\n",
    "import numpy as np\n",
    "\n",
    "data = load_iris()\n",
    "label_target = data.target_names\n",
    "print()\n",
    "print('Sample data from iris dataset: ')\n",
    "print('*'*30)\n",
    "\n",
    "for i in range (10):\n",
    "    rn = np.random.randint(0, 120)\n",
    "    print(data.data[rn], \"==>\", label_target[data.target[rn]])\n",
    "\n",
    "x = data.data\n",
    "y = data.target\n",
    "\n",
    "x_train, x_test, y_train, y_test = train_test_split(x, y, test_size = 0.2)\n",
    "\n",
    "print('training dataset length: ', len(x_train))\n",
    "print('testing dataset length: ', len(x_test))\n",
    "\n",
    "try: \n",
    "    nn = int(input('enter number of neighbors: '))\n",
    "    model = KNeighborsClassifier(nn)\n",
    "    model.fit(x_train, y_train)\n",
    "\n",
    "    test_data = input('enter test data: ').split(\",\")\n",
    "\n",
    "    for i in range (len(test_data)):\n",
    "        test_data[i] = float(test_data[i])\n",
    "\n",
    "    print()\n",
    "\n",
    "    v = model.predict([test_data])\n",
    "    print('predicted output is: ', label_target[v])\n",
    "\n",
    "except:\n",
    "    print('please provide valid input...')"
   ]
  }
 ],
 "metadata": {
  "kernelspec": {
   "display_name": "Python 3.10 tensorflow",
   "language": "python",
   "name": "tensorflow"
  },
  "language_info": {
   "codemirror_mode": {
    "name": "ipython",
    "version": 3
   },
   "file_extension": ".py",
   "mimetype": "text/x-python",
   "name": "python",
   "nbconvert_exporter": "python",
   "pygments_lexer": "ipython3",
   "version": "3.10.13"
  }
 },
 "nbformat": 4,
 "nbformat_minor": 2
}
