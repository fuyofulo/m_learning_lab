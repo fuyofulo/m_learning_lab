{
 "cells": [
  {
   "cell_type": "code",
   "execution_count": null,
   "metadata": {},
   "outputs": [],
   "source": [
    "import pandas\n",
    "import sklearn\n",
    "from sklearn import tree\n",
    "from sklearn.tree import DecisionTreeClassifier\n",
    "import matplotlib.pyplot as plt\n",
    "\n",
    "df = pandas.read_csv(\"D:\\'100'xdevs\\m_learning_lab\\dataset.csv\")\n",
    "\n",
    "df['nationality'] = df['nationality'].map({'uk': 0, 'usa': 1, 'n': 2})\n",
    "df['go'] = df['go'].map({'yes':1, 'no': 0})\n",
    "\n",
    "features = ['age', 'experience', 'rank', 'nationality']\n",
    "x = df(features)\n",
    "y = df('go')\n",
    "\n",
    "model = DecisionTreeClassifier(criterion='entrophy')\n",
    "model = model.fit(x, y)\n",
    "\n",
    "tree.plot_tree(model, features_names = features)\n",
    "\n",
    "print(model.predict([40,10,7,1]))"
   ]
  },
  {
   "cell_type": "code",
   "execution_count": null,
   "metadata": {},
   "outputs": [],
   "source": []
  }
 ],
 "metadata": {
  "kernelspec": {
   "display_name": "Python 3.10 tensorflow",
   "language": "python",
   "name": "tensorflow"
  },
  "language_info": {
   "codemirror_mode": {
    "name": "ipython",
    "version": 3
   },
   "file_extension": ".py",
   "mimetype": "text/x-python",
   "name": "python",
   "nbconvert_exporter": "python",
   "pygments_lexer": "ipython3",
   "version": "3.10.13"
  }
 },
 "nbformat": 4,
 "nbformat_minor": 2
}
