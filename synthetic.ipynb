{
 "cells": [
  {
   "cell_type": "code",
   "execution_count": 1,
   "metadata": {},
   "outputs": [
    {
     "name": "stdout",
     "output_type": "stream",
     "text": [
      "(10, 5) (10,)\n",
      "[[-0.19183555  1.05492298 -0.7290756  -1.14651383  1.44634283]\n",
      " [-1.11731035  0.79495321  3.11651775 -2.85961623 -1.52637437]\n",
      " [ 0.2344157  -1.92617151  2.43027958  1.49509867 -3.42524143]\n",
      " [-0.67124613  0.72558433  1.73994406 -2.00875146 -0.60483688]\n",
      " [-0.0126646   0.14092825  2.41932059 -1.52320683 -1.60290743]\n",
      " [ 1.6924546   0.0230103  -1.07460638  0.55132541  0.78712117]\n",
      " [ 0.74204416 -1.91437196  3.84266872  0.70896364 -4.42287433]\n",
      " [-0.74715829 -0.36632248 -2.17641632  1.72073855  1.23169963]\n",
      " [-0.88762896  0.59936399 -1.18938753 -0.22942496  1.37496472]\n",
      " [ 1.65980218 -1.04052679  0.89368622  1.03584131 -1.55118469]]\n"
     ]
    }
   ],
   "source": [
    "from sklearn import datasets\n",
    "from sklearn.datasets import make_classification\n",
    "\n",
    "x, y = make_classification (n_samples = 10, n_features = 5, n_informative = 2, n_redundant = 2, random_state = 1)\n",
    "\n",
    "print(x.shape, y.shape)\n",
    "print(x)"
   ]
  },
  {
   "cell_type": "code",
   "execution_count": null,
   "metadata": {},
   "outputs": [],
   "source": []
  }
 ],
 "metadata": {
  "kernelspec": {
   "display_name": "Python 3.10 tensorflow",
   "language": "python",
   "name": "tensorflow"
  },
  "language_info": {
   "codemirror_mode": {
    "name": "ipython",
    "version": 3
   },
   "file_extension": ".py",
   "mimetype": "text/x-python",
   "name": "python",
   "nbconvert_exporter": "python",
   "pygments_lexer": "ipython3",
   "version": "3.10.13"
  }
 },
 "nbformat": 4,
 "nbformat_minor": 2
}
